{
 "cells": [
  {
   "cell_type": "code",
   "execution_count": null,
   "metadata": {},
   "outputs": [],
   "source": [
    "__author__ = 'Knut Olsen <knut.olsen@noirlab.edu>, Robert Nikutta <robert.nikutta@noirlab.edu>'\n",
    "__version__ = '20231029' # yyyymmdd; version datestamp of this notebook\n",
    "__datasets__ = ['smash_dr1', 'des_dr1']\n",
    "__keywords__ = ['tutorial', 'query', 'image cutout', 'globular cluster', 'SIA']"
   ]
  },
  {
   "cell_type": "markdown",
   "metadata": {},
   "source": [
    "# Welcome to Astro Data Lab\n",
    "*Knut Olsen, Robert Nikutta, Astro Data Lab Team*"
   ]
  },
  {
   "cell_type": "markdown",
   "metadata": {},
   "source": [
    "## Table of contents\n",
    "* [Goals](#goals)\n",
    "* [Summary](#summary)\n",
    "* [Disclaimer & attribution](#attribution)\n",
    "* [Imports & setup](#import)\n",
    "* [Authentication](#auth)\n",
    "* [Basic info about database tables](#basic)\n",
    "* [A simple database query](#query)\n",
    "* [An image cutout](#image)\n",
    "* [Resources and references](#resources)"
   ]
  },
  {
   "cell_type": "markdown",
   "metadata": {},
   "source": [
    "<a class=\"anchor\" id=\"goals\"></a>\n",
    "# Goals\n",
    "Learn how to:\n",
    "* Import standard Data Lab modules\n",
    "* Set up the Simple Image Access (SIA) Service to let you create image cutouts\n",
    "* Discover the datasets available in the database\n",
    "* Issue a simple query to the database\n",
    "* Retrieve image cutouts\n",
    "* Create a color image\n"
   ]
  },
  {
   "cell_type": "markdown",
   "metadata": {},
   "source": [
    "<a class=\"anchor\" id=\"summary\"></a>\n",
    "# Summary\n",
    "\n",
    "If you've gotten this far, you're planning to use the Data Lab Jupyter notebook environment to access, explore, and analyze datasets available in the Data Lab.  This notebook aims to provide you with a very quick overview of how to use some common Data Lab services.  For more detailed explanations of data access, the full range of services, or for complete science examples, check out the other notebooks in this directory tree."
   ]
  },
  {
   "cell_type": "markdown",
   "metadata": {},
   "source": [
    "<a class=\"anchor\" id=\"attribution\"></a>\n",
    "# Disclaimer & attribution\n",
    "If you use this notebook for your published science, please acknowledge the following:\n",
    "\n",
    "* Data Lab concept paper: Fitzpatrick et al., \"The NOAO Data Laboratory: a conceptual overview\", SPIE, 9149, 2014, http://dx.doi.org/10.1117/12.2057445\n",
    "\n",
    "* Data Lab disclaimer: https://datalab.noirlab.edu/disclaimers.php"
   ]
  },
  {
   "cell_type": "markdown",
   "metadata": {},
   "source": [
    "<a class=\"anchor\" id=\"import\"></a>\n",
    "# Imports and setup\n",
    "To use the Astro Data Lab, you'll generally want to import common packages such as NumPy and matplotlib.  From the datalab package, you'll at minimum need the authClient module to get an authorization token (even if using Data Lab anonymously) and the queryClient module to issue a query against the catalog database.\n",
    "\n",
    "For storing results in virtual storage and myDB, you'll need the storeClient module *and* log in as an authenticated user.  \n",
    "\n",
    "The helpers module has many convience functions.  See the <a href=\"http://datalab.noirlab.edu/docs/manual/UsingAstroDataLab/ClientInterfaces/Helpers/Helpers.html\">online documentation</a> for a summary.\n",
    "\n",
    "Use of the image cutout service (SIA) requires the external PyVO package, and the URL of the SIA service that you will use.  Data Lab has a general SIA service containing all available images from [Astro Data Archive](https://astroarchive.noirlab.edu/), as well as a number of survey-specific services.  See the [SIA service HowTo notebook](https://github.com/astro-datalab/notebooks-latest/blob/master/04_HowTos/SiaService/How_to_use_the_Simple_Image_Access_service.ipynb) for examples."
   ]
  },
  {
   "cell_type": "code",
   "execution_count": null,
   "metadata": {},
   "outputs": [],
   "source": [
    "# std library imports\n",
    "from getpass import getpass\n",
    "\n",
    "# 3rd party\n",
    "import numpy as np\n",
    "import pylab as plt\n",
    "import matplotlib\n",
    "from astropy import utils, io\n",
    "from astropy.visualization import make_lupton_rgb\n",
    "%matplotlib inline\n",
    "\n",
    "# Data Lab and related imports\n",
    "\n",
    "# You'll need at least these for authenticating and for issuing database queries\n",
    "from dl import authClient as ac, queryClient as qc\n",
    "\n",
    "# Get helpers for various convenience function\n",
    "from dl.helpers.utils import convert\n",
    "\n",
    "# You'll want storeClient if you plan to use virtual storage or myDB\n",
    "# from dl import storeClient as sc\n",
    "\n",
    "# To get image cutouts, you'll need the VO-based SIA package, and define which SIA service to use\n",
    "from pyvo.dal import sia\n",
    "DEF_ACCESS_URL = \"https://datalab.noirlab.edu/sia/des_dr1\" # DES SIA service URL\n",
    "svc = sia.SIAService(DEF_ACCESS_URL)"
   ]
  },
  {
   "cell_type": "markdown",
   "metadata": {},
   "source": [
    "<a class=\"anchor\" id=\"auth\"></a>\n",
    "# Authentication\n",
    "For the purposes of this notebook, there is no need to log in with your username and password inside the notebook. As an anonymous user, you can issue queries to the database or retrieve image cutouts, but not store your results in virtual storage or myDB. If you need these things, you would use the authClient module to log in. You only need to do this once (unless you log out through authClient), as the authentication token is stored on the server and automatically detected.\n",
    "\n",
    "If you need to log in to Data Lab, un-comment the cell below and execute it:"
   ]
  },
  {
   "cell_type": "code",
   "execution_count": null,
   "metadata": {},
   "outputs": [],
   "source": [
    "#token = ac.login(input(\"Enter user name: (+ENTER) \"),getpass(\"Enter password: (+ENTER) \"))\n",
    "ac.whoAmI()"
   ]
  },
  {
   "cell_type": "markdown",
   "metadata": {},
   "source": [
    "<a class=\"anchor\" id=\"basic\"></a>\n",
    "# Basic info about database tables\n",
    "\n",
    "### What datasets are available?\n",
    "The queryClient has a `schema` method to give you information about available databases, tables, and columns.  If we call `qc.schema()` with an empty first argument, we'll get information on the available datasets and a one-line description for most of them."
   ]
  },
  {
   "cell_type": "code",
   "execution_count": null,
   "metadata": {},
   "outputs": [],
   "source": [
    "print(qc.schema())"
   ]
  },
  {
   "cell_type": "markdown",
   "metadata": {},
   "source": [
    "### Get list of tables\n",
    "If we call `qc.schema()` with a specific dataset name, we'll see what tables are available for that dataset.  Here's what's available for SMASH DR1:"
   ]
  },
  {
   "cell_type": "code",
   "execution_count": null,
   "metadata": {},
   "outputs": [],
   "source": [
    "print(qc.schema('smash_dr1'))"
   ]
  },
  {
   "cell_type": "markdown",
   "metadata": {},
   "source": [
    "### Get list of columns\n",
    "We can also use `qc.schema()` to get column names and descriptions for a specific table.  Here's what's available for the SMASH DR1 object table.  (Note that not all datasets have column descriptions for every column)."
   ]
  },
  {
   "cell_type": "code",
   "execution_count": null,
   "metadata": {},
   "outputs": [],
   "source": [
    "print(qc.schema('smash_dr1.object'))"
   ]
  },
  {
   "cell_type": "markdown",
   "metadata": {},
   "source": [
    "### Getting statistics for tables\n",
    "You'll often want to get some basic information about a given table, e.g. the number of rows.  One might be tempted to use `SELECT COUNT(*)` in a query for this -- but that can be slow on large datasets, and is often not needed. Instead, the special database `tbl_stat` contains this information for each dataset. Let's query this table instead:"
   ]
  },
  {
   "cell_type": "code",
   "execution_count": null,
   "metadata": {},
   "outputs": [],
   "source": [
    "#query = \"SELECT COUNT(ra) FROM phat_v2.phot_mod\" # SLOW\n",
    "query = \"SELECT * FROM tbl_stat WHERE schema='smash_dr1' AND tbl_name='object'\" # Retrieve useful stats, quickly"
   ]
  },
  {
   "cell_type": "code",
   "execution_count": null,
   "metadata": {},
   "outputs": [],
   "source": [
    "info = qc.query(sql=query) # by default the result is a CSV formatted string"
   ]
  },
  {
   "cell_type": "code",
   "execution_count": null,
   "metadata": {},
   "outputs": [],
   "source": [
    "print(info)"
   ]
  },
  {
   "cell_type": "markdown",
   "metadata": {},
   "source": [
    "<a class=\"anchor\" id=\"query\"></a>\n",
    "# A simple query for catalog data\n",
    "In the above section we already saw a basic query of the `tbl_stats` database. Here we will retrieve the first 10 rows from the `smash_dr1.object` table:"
   ]
  },
  {
   "cell_type": "code",
   "execution_count": null,
   "metadata": {},
   "outputs": [],
   "source": [
    "query = \"SELECT * FROM smash_dr1.object LIMIT 10\"\n",
    "result = qc.query(sql=query) # by default the result is a CSV formatted string"
   ]
  },
  {
   "cell_type": "markdown",
   "metadata": {},
   "source": [
    "Note that by default the result is returned as a long string that looks like a CSV file:"
   ]
  },
  {
   "cell_type": "code",
   "execution_count": null,
   "metadata": {},
   "outputs": [],
   "source": [
    "print(type(result))\n",
    "print(result[:1000]) # print just the first 1000 characters of the returned string"
   ]
  },
  {
   "cell_type": "markdown",
   "metadata": {},
   "source": [
    "We would generally want to convert this string into a table or an array, i.e., into some format that allows numerical processing.  The Data Lab `helpers` module makes it easy. Here we convert the result string result into a Pandas dataframe:"
   ]
  },
  {
   "cell_type": "code",
   "execution_count": null,
   "metadata": {},
   "outputs": [],
   "source": [
    "df = convert(result,'pandas')\n",
    "df.head()"
   ]
  },
  {
   "cell_type": "markdown",
   "metadata": {},
   "source": [
    "Note that for convenience one can request the result to be in a number of other formats, including a Pandas DataFrame: "
   ]
  },
  {
   "cell_type": "code",
   "execution_count": null,
   "metadata": {},
   "outputs": [],
   "source": [
    "query = \"SELECT * FROM smash_dr1.object LIMIT 10\"\n",
    "df = qc.query(sql=query,fmt='pandas')\n",
    "df.head()"
   ]
  },
  {
   "cell_type": "markdown",
   "metadata": {},
   "source": [
    "The results of a query like this can be stored to your VOSpace (remote user file storage) or to MyDB (remote user database), if you logged in as an authenticated user. See some of the Data Lab [How-To notebooks](https://github.com/astro-datalab/notebooks-latest/tree/058d6a71dbdd7f4f19a38f5ec6f78cd9b107113c/04_HowTos) for for examples of this."
   ]
  },
  {
   "cell_type": "markdown",
   "metadata": {},
   "source": [
    "<a class=\"anchor\" id=\"image\"></a>\n",
    "# Find and download an image cutout\n",
    "Using the image cutout service is a two-step process. First, we specify a position (RA and Dec), and the size of the image that we want to retrieve. Second, we then search the SIA service for all images that overlap that point on the sky:"
   ]
  },
  {
   "cell_type": "code",
   "execution_count": null,
   "metadata": {},
   "outputs": [],
   "source": [
    "# NGC 288 (a globular cluster)\n",
    "ra = 13.19     # in decimal degrees\n",
    "dec = -26.59   # in decimal degrees\n",
    "\n",
    "fov = 13/60  # image cutout field of view (in degrees; here 13 arminutes = 0.22 degrees)\n",
    "\n",
    "imgTable = svc.search((ra,dec), (fov/np.cos(dec*np.pi/180), fov), verbosity=2).to_table()  # uses declination correction"
   ]
  },
  {
   "cell_type": "markdown",
   "metadata": {},
   "source": [
    "The result is a VOTable that we convert to an astropy Table on the fly. The table contains many columns of metadata describing the parameters of each image, including a URL for the cutout itself. Note, however, that data quality images such as masks or weight maps can also appear in the list:"
   ]
  },
  {
   "cell_type": "code",
   "execution_count": null,
   "metadata": {},
   "outputs": [],
   "source": [
    "print(type(imgTable))\n",
    "imgTable"
   ]
  },
  {
   "cell_type": "markdown",
   "metadata": {},
   "source": [
    "The next step is to identify the image that you want from the list of available images.  Here we will limit the list to g-band image stacks, and select the `image` product type (rather than weights or masks)."
   ]
  },
  {
   "cell_type": "code",
   "execution_count": null,
   "metadata": {},
   "outputs": [],
   "source": [
    "# boolean selection for just g-band images\n",
    "sel0 = imgTable['obs_bandpass'] == 'g'\n",
    "\n",
    "# logically add selections for 'Stack' and 'image' product type\n",
    "sel = sel0 & ((imgTable['proctype'] == 'Stack') & (imgTable['prodtype'] == 'image')) # basic selection\n",
    "\n",
    "# filter the above results table\n",
    "Table = imgTable[sel] # select\n",
    "Table"
   ]
  },
  {
   "cell_type": "markdown",
   "metadata": {},
   "source": [
    "The final step is to extract the URL and download the image:"
   ]
  },
  {
   "cell_type": "code",
   "execution_count": null,
   "metadata": {},
   "outputs": [],
   "source": [
    "row = Table[0]\n",
    "url = row['access_url'] # get the download URL\n",
    "print(url)"
   ]
  },
  {
   "cell_type": "code",
   "execution_count": null,
   "metadata": {},
   "outputs": [],
   "source": [
    "gimage = io.fits.getdata(utils.data.download_file(url,cache=True,show_progress=False,timeout=120))"
   ]
  },
  {
   "cell_type": "markdown",
   "metadata": {},
   "source": [
    "We'll do a quick display here:"
   ]
  },
  {
   "cell_type": "code",
   "execution_count": null,
   "metadata": {},
   "outputs": [],
   "source": [
    "fig = plt.subplots(figsize=(10,10))\n",
    "plt.imshow(np.arcsinh(gimage),cmap='gray',norm=matplotlib.colors.Normalize(vmin=0))\n",
    "plt.axis('off');"
   ]
  },
  {
   "cell_type": "markdown",
   "metadata": {},
   "source": [
    "## Let's make a color image\n",
    "Let's write a quick function to do the SIA query and image selection for us:"
   ]
  },
  {
   "cell_type": "code",
   "execution_count": null,
   "metadata": {},
   "outputs": [],
   "source": [
    "# A function to download the deepest available stacked images\n",
    "def download_deep_stack(ra,dec,fov=0.1,band='g'):\n",
    "    imgTable = svc.search((ra,dec), (fov/np.cos(dec*np.pi/180), fov), verbosity=2).to_table()\n",
    "    print(\"The full image list contains\", len(imgTable), \"entries\")\n",
    "\n",
    "    # apply image seletion criteria\n",
    "    sel0 = imgTable['obs_bandpass'] == band\n",
    "    sel = sel0 & ((imgTable['proctype'] == 'Stack') & (imgTable['prodtype'] == 'image')) # basic selection\n",
    "    Table = imgTable[sel] # select\n",
    "\n",
    "    # if more than one image matches our desired criteria\n",
    "    if (len(Table)>0):\n",
    "        row = Table[np.argmax(Table['exptime'].data.data.astype('float'))] # pick image with longest exposure time\n",
    "        url = row['access_url'] # get the download URL\n",
    "        print ('Downloading deepest stacked image...')\n",
    "        image = io.fits.getdata(utils.data.download_file(url,cache=True,show_progress=False,timeout=120))\n",
    "        print(url)\n",
    "\n",
    "    # if no images match our criteria\n",
    "    else:\n",
    "        print ('No image available.')\n",
    "        image = None\n",
    "        \n",
    "    print()\n",
    "    return image"
   ]
  },
  {
   "cell_type": "markdown",
   "metadata": {},
   "source": [
    "Using this function we can now quickly download two more bands (r and i bands), and combine them with the g-band image to make a false-color image:"
   ]
  },
  {
   "cell_type": "code",
   "execution_count": null,
   "metadata": {},
   "outputs": [],
   "source": [
    "rimage = download_deep_stack(ra,dec,fov,band='r')\n",
    "iimage = download_deep_stack(ra,dec,fov,band='i')"
   ]
  },
  {
   "cell_type": "markdown",
   "metadata": {},
   "source": [
    "Now we can do the combination of images in three bands:"
   ]
  },
  {
   "cell_type": "code",
   "execution_count": null,
   "metadata": {},
   "outputs": [],
   "source": [
    "color_image = make_lupton_rgb(iimage, rimage, gimage, stretch=100, Q=0.1)"
   ]
  },
  {
   "cell_type": "markdown",
   "metadata": {},
   "source": [
    "And plot the resulting false-color image:"
   ]
  },
  {
   "cell_type": "code",
   "execution_count": null,
   "metadata": {},
   "outputs": [],
   "source": [
    "fig = plt.figure(figsize=(10,10))\n",
    "plt.imshow(color_image)\n",
    "plt.axis('off');"
   ]
  },
  {
   "cell_type": "markdown",
   "metadata": {},
   "source": [
    "<a class=\"anchor\" id=\"resources\"></a>\n",
    "# Further resources and references\n",
    "* This notebook is [available on GitHub](https://github.com/astro-datalab/notebooks-latest/blob/058d6a71dbdd7f4f19a38f5ec6f78cd9b107113c/01_GettingStartedWithDataLab/02_GettingStartedWithDataLab.ipynb)\n",
    "* An in-depth [notebook on Simple Image Access](https://github.com/astro-datalab/notebooks-latest/blob/058d6a71dbdd7f4f19a38f5ec6f78cd9b107113c/04_HowTos/SiaService/How_to_use_the_Simple_Image_Access_service.ipynb)\n",
    "* Info about the [globular cluster NGC 288](https://en.wikipedia.org/wiki/NGC_288)"
   ]
  }
 ],
 "metadata": {
  "kernelspec": {
   "display_name": "DL Py3.9 (Default)",
   "language": "python",
   "name": "python3"
  },
  "language_info": {
   "codemirror_mode": {
    "name": "ipython",
    "version": 3
   },
   "file_extension": ".py",
   "mimetype": "text/x-python",
   "name": "python",
   "nbconvert_exporter": "python",
   "pygments_lexer": "ipython3",
   "version": "3.9.18"
  }
 },
 "nbformat": 4,
 "nbformat_minor": 4
}

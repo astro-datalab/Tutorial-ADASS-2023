{
 "cells": [
  {
   "cell_type": "code",
   "execution_count": null,
   "id": "de7e68ff",
   "metadata": {},
   "outputs": [],
   "source": [
    "__author__ = 'Ragadeepika Pucha <rpucha@arizona.edu>, Stephanie Juneau <stephanie.juneau@noirlab.edu>' \n",
    "__version__ = '20230830' \n",
    "__datasets__ = ['sdss_dr16', 'desi_edr']  \n",
    "__keywords__ = ['sparcl', 'spectra', 'database'] "
   ]
  },
  {
   "cell_type": "markdown",
   "id": "4a8e7e4d",
   "metadata": {},
   "source": [
    "# Comparing SDSS and DESI spectra using SPARCL\n",
    "\n",
    "*Ragadeepika Pucha (U.Arizona), Stéphanie Juneau (NOIRLab), and the Astro Data Lab Team*"
   ]
  },
  {
   "cell_type": "markdown",
   "id": "fa123d23",
   "metadata": {},
   "source": [
    "### Table of contents\n",
    "* [Goals & Summary](#goals)\n",
    "* [Disclaimer & Attribution](#attribution)\n",
    "* [Imports & Setup](#imports)\n",
    "* [SPARCL](#sparcl)\n",
    "* [Candidate Selection](#cand_sel)\n",
    "    * [Data Discovery](#data)\n",
    "    * [Common Targets between SDSS DR16 and DESI EDR](#common)\n",
    "    * [Selecting Galaxies with [OII] measurements](#oii_emission)\n",
    "* [Accessing Spectra](#spectral_access)\n",
    "    * [Comparison of SDSS DR16 and DESI EDR Spectra](#spec_comparison)\n",
    "* [Resources, References and Acknowledgements](#resources)"
   ]
  },
  {
   "cell_type": "markdown",
   "id": "48345b01",
   "metadata": {},
   "source": [
    "<a class=\"anchor\" id=\"goals\"></a>\n",
    "# Goals\n",
    "\n",
    "In this notebook, we use [SPARCL](https://astrosparcl.datalab.noirlab.edu/sparc/) (SPectra Analysis and Retrievable Catalog Lab) to compare SDSS DR16 and DESI EDR spectra. We show how to use the SPARCL data discovery to access available spectra of sources in a specific region of the sky with redshift and spectype constraints. We further compare the spectra from SDSS DR16 and DESI EDR.\n",
    "\n",
    "# Summary\n",
    "\n",
    "Spectroscopic study of astronomical objects is crucial for detailed understanding of their physics and evolution. Stellar spectra inform us about the stars' ages, temperatures, and chemical compositions; while galaxy spectra provide us information about the stellar, gas, and dust properties of galaxies, including their kinematics. Spectroscopic surveys therefore enable the detailed statistical analysis of different samples of sources. Two such important spectroscopic surveys are the *Sloan Digital Sky Survey* ([SDSS](https://www.sdss4.org/dr16/)) and the *Dark Energy Spectroscopic Instrument* ([DESI](https://www.desi.lbl.gov/)) survey.\n",
    "\n",
    "**Sloan Digital Sky Survey (SDSS)**\n",
    "\n",
    "The SDSS uses the 2.5-m optical telescope at Apache Point Observatory in New Mexico, and has been collecting photometric and spectroscopic data since more than 20 years now. \n",
    "The spectroscopic survey for SDSS I/II (2000-2008) was conducted using the \"SDSS\" spectrograph, that collected spectra from 640 objects at a single time. For SDSS III and later, the existing spectrograph was retired and the 1000-fiber \"BOSS\" spectrograph was incorporated. Information about the design and performance of these spectrographs is presented in [Smee et al. 2013](https://ui.adsabs.harvard.edu/abs/2013AJ....146...32S/abstract).\n",
    "\n",
    "**Dark Energy Spectroscopic Instrument (DESI)**\n",
    "\n",
    "The DESI survey is currently being conducted using the 4-m Mayall Telescope, Kitt Peak Observatory. The 5000-fiber spectrograph has been taking spectra of stars, galaxies, and quasars since 2020. In just over one year, the number of spectra from DESI has surpassed all the existing spectroscopic surveys, including SDSS. The DESI Early Data Release (EDR) is the first public data release that consists of some commissioning data and all of the survey validation data. The overview of the instrument is presented in [Abareshi et al. 2022](https://ui.adsabs.harvard.edu/abs/2022arXiv220510939A/abstract). \n",
    "\n",
    "The main comparison between SDSS (BOSS) and DESI spectroscopic surveys are summarized in the table below.\n",
    "\n",
    "|    Property                        |     SDSS  (BOSS)          | DESI spectrograph          |\n",
    "|------------------------------------|---------------------------|----------------------------|\n",
    "|    Fiber diameter                   |          3\"  (2\")         |          1.5\"              |\n",
    "| Number of spectra at a single time |        640 (1000)         |       5000                 |                       \n",
    "| Wavelength coverage                | 3800 - 9200 $\\mathring A$ |  3600 - 9800 $\\mathring A$ |\n",
    "| Spectral resolution                |  110 - 190 km/s           |   60 - 150 km/s            |\n",
    "| Targets                            |   r < 17.7 mag            |    r < 24.5 mag            |\n",
    "| Spatial density                    |    ~ 90 $\\rm deg^{-2}$    |     ~ 700 $\\rm deg^{-2}$   |\n",
    "\n",
    "In this notebook, we showcase the data discovery feature of SPARCL and then show how to access SDSS DR16 and DESI EDR spectra using SPARCL. We further compare the spectra of common objects, focusing on the flux and the spectral resolution that is achievable from the two surveys."
   ]
  },
  {
   "cell_type": "markdown",
   "id": "2e3d8165",
   "metadata": {},
   "source": [
    "<a class=\"anchor\" id=\"attribution\"></a>\n",
    "# Disclaimer & Attribution\n",
    "If you use this notebook for your published science, please acknowledge the following:\n",
    "\n",
    "* Data Lab concept paper: Fitzpatrick et al., \"The NOAO Data Laboratory: a conceptual overview\", SPIE, 9149, 2014, http://dx.doi.org/10.1117/12.2057445\n",
    "\n",
    "* Data Lab disclaimer: https://datalab.noirlab.edu/disclaimers.php"
   ]
  },
  {
   "cell_type": "markdown",
   "id": "e59b0fc2",
   "metadata": {},
   "source": [
    "<a class=\"anchor\" id=\"imports\"></a>\n",
    "# Imports and Setup"
   ]
  },
  {
   "cell_type": "code",
   "execution_count": null,
   "id": "abcabad4",
   "metadata": {},
   "outputs": [],
   "source": [
    "import numpy as np\n",
    "np.seterr(divide = 'ignore')    ## Ignores division by zero warning\n",
    "\n",
    "from astropy.table import Table, join, hstack\n",
    "from astropy.coordinates import SkyCoord, search_around_sky\n",
    "import astropy.units as u\n",
    "\n",
    "import matplotlib.pyplot as plt\n",
    "%matplotlib inline\n",
    "\n",
    "# Data Lab\n",
    "from dl import queryClient as qc\n",
    "\n",
    "## SPARCL\n",
    "from sparcl.client import SparclClient"
   ]
  },
  {
   "cell_type": "code",
   "execution_count": null,
   "id": "2b5bdc80",
   "metadata": {},
   "outputs": [],
   "source": [
    "## Making the matplotlib plots look nicer\n",
    "settings = {\n",
    "    'font.size':20,\n",
    "    'axes.linewidth':2.0,\n",
    "    'xtick.major.size':6.0,\n",
    "    'xtick.minor.size':4.0,\n",
    "    'xtick.major.width':2.0,\n",
    "    'xtick.minor.width':1.5,\n",
    "    'xtick.direction':'in', \n",
    "    'xtick.minor.visible':True,\n",
    "    'xtick.top':True,\n",
    "    'ytick.major.size':6.0,\n",
    "    'ytick.minor.size':4.0,\n",
    "    'ytick.major.width':2.0,\n",
    "    'ytick.minor.width':1.5,\n",
    "    'ytick.direction':'in', \n",
    "    'ytick.minor.visible':True,\n",
    "    'ytick.right':True\n",
    "}\n",
    "\n",
    "plt.rcParams.update(**settings)"
   ]
  },
  {
   "cell_type": "markdown",
   "id": "3b978fe8",
   "metadata": {},
   "source": [
    "<a class=\"anchor\" id=\"sparcl\"></a>\n",
    "# SPARCL\n",
    "\n",
    "SPARCL (SPectra Analysis and Retrievable Catalog Lab) is a spectral access service of the Community Science and Data Center (CSDC) program of NSF's NOIRLab. It enables fast data discovery and spectral access that matches the user's specifications. It currently hosts all of SDSS DR16 and DESI EDR data. More information about this service is accessible [here](https://sparclclient.readthedocs.io/en/latest/). An introductory notebook on how to use SPARCL is available [here](https://github.com/astro-datalab/notebooks-latest/blob/master/04_HowTos/SPARCL/How_to_use_SPARCL.ipynb)."
   ]
  },
  {
   "cell_type": "code",
   "execution_count": null,
   "id": "50cbcda4",
   "metadata": {},
   "outputs": [],
   "source": [
    "## Load the SPARCL client for data discovery and spectral access\n",
    "\n",
    "client = SparclClient()"
   ]
  },
  {
   "cell_type": "code",
   "execution_count": null,
   "id": "039dcb22",
   "metadata": {},
   "outputs": [],
   "source": [
    "client"
   ]
  },
  {
   "cell_type": "markdown",
   "id": "3e3f0d0e",
   "metadata": {},
   "source": [
    "<a class=\"anchor\" id=\"cand_sel\"></a>\n",
    "# Candidate Selection\n",
    "\n",
    "We select sources from both SDSS and DESI that have the following constraints:\n",
    "\n",
    "    1. 208.4 ≤ R.A. ≤ 210.2\n",
    "    2. 4.8 ≤ Dec ≤ 6.4\n",
    "    3. 0.1 ≤ z ≤ 0.15\n",
    "    4. SPECTYPE = GALAXY\n",
    "    \n",
    "The region selected is part of the SDSS Great Wall ([Vogeley et al. 2004](https://ui.adsabs.harvard.edu/abs/2004ogci.conf....5V/abstract), [Einasto et al. 2011](https://ui.adsabs.harvard.edu/abs/2011ApJ...736...51E/abstract)). Both SDSS and DESI have spectra in this region. It is therefore perfect for our comparison. The redshift cut is motivated by the SDSS Great Wall structure and is selected so as to compare the [OII] emission line in this region."
   ]
  },
  {
   "cell_type": "markdown",
   "id": "779fd7d4",
   "metadata": {},
   "source": [
    "<a class=\"anchod\" id=\"data\"></a>\n",
    "## Data Discovery"
   ]
  },
  {
   "cell_type": "code",
   "execution_count": null,
   "id": "870be611",
   "metadata": {},
   "outputs": [],
   "source": [
    "## The outfields that are required as output from SPARCL\n",
    "out = ['sparcl_id', 'specid', 'ra', 'dec', 'redshift'] \n",
    "\n",
    "## Constraints\n",
    "## SPECTYPE = 'GALAXY'\n",
    "## 208.4 <= RA <= 210.2\n",
    "## 4.8 <= DEC <= 6.4\n",
    "## 0.1 <= Redshift <= 0.15\n",
    "## SPECPRIMARY = True -- consider only primary spectra\n",
    "## \"datasetgroup\" denotes the required survey (SDSS_BOSS for SDSS-DR16 (SDSS+BOSS data), and DESI for DESI EDR data (will be updated with future releases))\n",
    "\n",
    "sdss_cons = {'spectype':['GALAXY'], 'ra':[208.4, 210.2], 'dec':[4.8, 6.4], 'specprimary': [True], 'datasetgroup': ['SDSS_BOSS'], 'redshift': [0.1, 0.15]}\n",
    "desi_cons = {'spectype':['GALAXY'], 'ra':[208.4, 210.2], 'dec':[4.8, 6.4], 'specprimary': [True], 'datasetgroup': ['DESI'], 'redshift': [0.1, 0.15]} "
   ]
  },
  {
   "cell_type": "code",
   "execution_count": null,
   "id": "085980b4",
   "metadata": {},
   "outputs": [],
   "source": [
    "rec_sdss = client.find(outfields=out, constraints=sdss_cons, limit = 5000)\n",
    "rec_desi = client.find(outfields=out, constraints=desi_cons, limit = 5000)"
   ]
  },
  {
   "cell_type": "code",
   "execution_count": null,
   "id": "8a682b44",
   "metadata": {},
   "outputs": [],
   "source": [
    "ra_sdss = np.array([rec['ra'] for rec in rec_sdss.records])\n",
    "dec_sdss = np.array([rec['dec'] for rec in rec_sdss.records])\n",
    "\n",
    "ra_desi = np.array([rec['ra'] for rec in rec_desi.records])\n",
    "dec_desi = np.array([rec['dec'] for rec in rec_desi.records])"
   ]
  },
  {
   "cell_type": "code",
   "execution_count": null,
   "id": "1c602946",
   "metadata": {},
   "outputs": [],
   "source": [
    "## Overlap of sources\n",
    "\n",
    "plt.figure(figsize = (8,8))\n",
    "\n",
    "plt.suptitle('Sky Positions of Galaxies with SDSS and DESI Spectra', fontsize = 20)\n",
    "\n",
    "plt.scatter(ra_desi, dec_desi, color = 'grey', marker = 'o', s = 50, alpha = 0.8, lw = 2.0, label = 'DESI EDR')\n",
    "plt.scatter(ra_sdss, dec_sdss, color = 'r', marker = 'X', s = 50, label = 'SDSS DR16')\n",
    "plt.gca().invert_xaxis()\n",
    "plt.xlabel('R.A. [deg]')\n",
    "plt.ylabel('Dec. [deg]')\n",
    "plt.legend(loc = 'upper right')"
   ]
  },
  {
   "cell_type": "markdown",
   "id": "0e0c6426",
   "metadata": {},
   "source": [
    "From this figure, we clearly see that the DESI target density is much higher than SDSS."
   ]
  },
  {
   "cell_type": "markdown",
   "id": "099ea866",
   "metadata": {},
   "source": [
    "<a class=\"anchod\" id=\"common\"></a>\n",
    "## Common Targets between SDSS DR16 and DESI EDR\n",
    "\n",
    "We use the astropy's `search_around_sky` function to find common sources between the two catalogs."
   ]
  },
  {
   "cell_type": "code",
   "execution_count": null,
   "id": "53972f7c",
   "metadata": {},
   "outputs": [],
   "source": [
    "## Find common sources between SDSS and DESI\n",
    "\n",
    "cat_desi = SkyCoord(ra = ra_desi*u.deg, dec = dec_desi*u.deg)\n",
    "cat_sdss = SkyCoord(ra = ra_sdss*u.deg, dec = dec_sdss*u.deg)\n",
    "\n",
    "ii_desi, ii_sdss, _, _ = search_around_sky(cat_desi, cat_sdss, 0.5*u.arcsec)"
   ]
  },
  {
   "cell_type": "code",
   "execution_count": null,
   "id": "6df471f5",
   "metadata": {},
   "outputs": [],
   "source": [
    "desi_common = [rec_desi.records[ii] for ii in ii_desi]\n",
    "sdss_common = [rec_sdss.records[ii] for ii in ii_sdss]"
   ]
  },
  {
   "cell_type": "code",
   "execution_count": null,
   "id": "37b41e68",
   "metadata": {},
   "outputs": [],
   "source": [
    "t_desi_common = Table(desi_common)\n",
    "t_sdss_common = Table(sdss_common)"
   ]
  },
  {
   "cell_type": "code",
   "execution_count": null,
   "id": "6749638e",
   "metadata": {},
   "outputs": [],
   "source": [
    "## Combining the two tables into a single table\n",
    "\n",
    "t_comb = hstack([t_desi_common, t_sdss_common], table_names=['desi', 'sdss'])"
   ]
  },
  {
   "cell_type": "code",
   "execution_count": null,
   "id": "417b602c",
   "metadata": {},
   "outputs": [],
   "source": [
    "print ('Number of unique SDSS objects: ', len(np.unique(t_comb['specid_sdss'])))\n",
    "print ('Number of unique DESI objects: ', len(np.unique(t_comb['specid_desi'])))"
   ]
  },
  {
   "cell_type": "code",
   "execution_count": null,
   "id": "b6263640",
   "metadata": {},
   "outputs": [],
   "source": [
    "## This suggests that one SDSS object has been selected as two DESI objects.\n",
    "## We remove that particular object from our selection\n",
    "\n",
    "sdss_ids_unique, n_counts = np.unique(t_comb['specid_sdss'].data, return_counts = True)\n",
    "sdss_id_repeated = sdss_ids_unique[n_counts > 1]\n",
    "\n",
    "## Removing this particular object\n",
    "t_comb_unique = t_comb[~(t_comb['specid_sdss'].data == sdss_id_repeated)]"
   ]
  },
  {
   "cell_type": "code",
   "execution_count": null,
   "id": "0f22a603",
   "metadata": {},
   "outputs": [],
   "source": [
    "z_desi = t_comb_unique['redshift_desi']\n",
    "z_sdss = t_comb_unique['redshift_sdss']"
   ]
  },
  {
   "cell_type": "code",
   "execution_count": null,
   "id": "3dc76af6",
   "metadata": {},
   "outputs": [],
   "source": [
    "len(z_desi), len(z_sdss)"
   ]
  },
  {
   "cell_type": "code",
   "execution_count": null,
   "id": "dbdeeb98",
   "metadata": {},
   "outputs": [],
   "source": [
    "# Comparison of redshifts\n",
    "plt.figure(figsize = (6,6))\n",
    "plt.suptitle('Redshift Comparison')\n",
    "\n",
    "plt.scatter(z_sdss, z_desi, edgecolors = 'k', marker = 'o', s = 100, lw = 3.0, facecolors = 'none')\n",
    "plt.plot([0.1, 0.15], [0.1,0.15], ls = ':', color = 'r', lw = 2.0)\n",
    "plt.xlabel('$z_{spec}$ (SDSS)')\n",
    "plt.ylabel('$z_{spec}$ (DESI)')"
   ]
  },
  {
   "cell_type": "markdown",
   "id": "22b86601",
   "metadata": {},
   "source": [
    "We found 108 common sources between SDSS DR16 and DESI EDR with all our imposed constraits. The above figure compares the redshifts of these common sources from the two surveys. "
   ]
  },
  {
   "cell_type": "markdown",
   "id": "e457213c",
   "metadata": {},
   "source": [
    "<a class=\"anchod\" id=\"oii_emission\"></a>\n",
    "## Selecting Galaxies with [OII] measurements\n",
    "\n",
    "The [OII] doublet (3726 $\\mathring A$ and 3728 $\\mathring A$) is typically hard to resolve, but is often used to select high-redshift emission-line galaxies. To compare the SDSS DR16 and DESI EDR spectra, we want to select the galaxy with high [OII] flux. For this purpose, we first select galaxies in the region of interest with non-zero [OII] measurements.  \n",
    "\n",
    "We access the \"emissionlinesport\" catalog from the SDSS DR12 database (`sdss_dr12.emissionlinesport`). More information about this catalog can be found from the [Data Lab Table Browser](https://datalab.noirlab.edu/query.php?name=sdss_dr12.emissionlinesport)."
   ]
  },
  {
   "cell_type": "code",
   "execution_count": null,
   "id": "43b99a5a",
   "metadata": {},
   "outputs": [],
   "source": [
    "## Query to access galaxies with non-zero [OII] measurements\n",
    "query = \"\"\"\n",
    "SELECT specobjid as specid_sdss, \n",
    "flux_oii_3726, flux_oii_3726_err,\n",
    "flux_oii_3728, flux_oii_3728_err\n",
    "FROM sdss_dr12.emissionlinesport\n",
    "WHERE (ra >= 208.4) AND (ra <= 210.2) AND (dec >= 4.8) AND (dec <= 6.4) \n",
    "AND (flux_oii_3726_err != 0) AND (flux_oii_3728_err != 0)\n",
    "\"\"\""
   ]
  },
  {
   "cell_type": "code",
   "execution_count": null,
   "id": "75769010",
   "metadata": {},
   "outputs": [],
   "source": [
    "print (query)"
   ]
  },
  {
   "cell_type": "code",
   "execution_count": null,
   "id": "012633a1",
   "metadata": {},
   "outputs": [],
   "source": [
    "t_em = qc.query(sql = query, fmt = 'table')"
   ]
  },
  {
   "cell_type": "code",
   "execution_count": null,
   "id": "60227a4d",
   "metadata": {},
   "outputs": [],
   "source": [
    "## Find sources from the common SDSS and DESI catalog that has [OII] flux\n",
    "## This part will change with SPARCL as well\n",
    "\n",
    "t_oii_comb = join(t_comb_unique, t_em, keys = ['specid_sdss'])"
   ]
  },
  {
   "cell_type": "code",
   "execution_count": null,
   "id": "421df870",
   "metadata": {},
   "outputs": [],
   "source": [
    "len(t_oii_comb)"
   ]
  },
  {
   "cell_type": "code",
   "execution_count": null,
   "id": "6bee6b1c",
   "metadata": {},
   "outputs": [],
   "source": [
    "len(np.unique(t_oii_comb['specid_sdss'])), len(np.unique(t_oii_comb['specid_desi']))"
   ]
  },
  {
   "cell_type": "markdown",
   "id": "3458a066",
   "metadata": {},
   "source": [
    "We finally have 89 galaxies with SDSS DR16 and DESI EDR spectra, that have non-zero [OII] flux in SDSS. "
   ]
  },
  {
   "cell_type": "markdown",
   "id": "79bd467a",
   "metadata": {},
   "source": [
    "<a class=\"anchor\" id=\"spectral_access\"></a>\n",
    "# Accessing Spectra\n",
    "\n",
    "In this section, we show how to access the spectra of all the selected sources from SDSS and DESI using SPARCL."
   ]
  },
  {
   "cell_type": "code",
   "execution_count": null,
   "id": "d45fa4ad",
   "metadata": {},
   "outputs": [],
   "source": [
    "## Unique identifiers for SDSS and DESI\n",
    "ids_sdss = [str(idx) for idx in t_oii_comb['sparcl_id_sdss'].data]\n",
    "ids_desi = [str(idx) for idx in t_oii_comb['sparcl_id_desi'].data]"
   ]
  },
  {
   "cell_type": "code",
   "execution_count": null,
   "id": "305f7848",
   "metadata": {},
   "outputs": [],
   "source": [
    "## Use client.retrive for spectra\n",
    "## This retrieves all the 89 spectra at once\n",
    "\n",
    "sel = ['wavelength', 'flux', 'ivar', 'model', 'sparcl_id']\n",
    "\n",
    "spec_sdss = client.retrieve(uuid_list=ids_sdss, include = sel)\n",
    "spec_desi = client.retrieve(uuid_list=ids_desi, include = sel)"
   ]
  },
  {
   "cell_type": "code",
   "execution_count": null,
   "id": "d7693e78",
   "metadata": {},
   "outputs": [],
   "source": [
    "## Reorder the records to match the original table\n",
    "\n",
    "res_sdss = spec_sdss.reorder(ids_sdss)\n",
    "res_desi = spec_desi.reorder(ids_desi)"
   ]
  },
  {
   "cell_type": "markdown",
   "id": "fc804070",
   "metadata": {},
   "source": [
    "<a class=\"anchor\" id=\"spec_comparison\"></a>\n",
    "## Comparison of SDSS DR16 and DESI EDR Spectra\n",
    "\n",
    "We compare the SDSS and DESI spectra of the source with the maximum [OII] SNR from SDSS. <br/>\n",
    "The following function is useful to access any spectra, given its SPARCL record and redshift."
   ]
  },
  {
   "cell_type": "code",
   "execution_count": null,
   "id": "fad492cf",
   "metadata": {},
   "outputs": [],
   "source": [
    "def get_restframe_spectra(sparcl_rec, z, rest_frame = True):\n",
    "    \"\"\"\n",
    "    Function to extract the spectra from a given SPARCL record\n",
    "    \n",
    "    Parameters\n",
    "    ----------\n",
    "    sparcl_rec : dict\n",
    "        SPARCL record of a given object\n",
    "        \n",
    "    z : float\n",
    "        Redshift of the object\n",
    "        \n",
    "    rest_frame : bool\n",
    "        Whether or not to return the rest-frame spectra.\n",
    "        Default is True.\n",
    "        \n",
    "    Returns \n",
    "    -------\n",
    "    wavelength : array\n",
    "        Wavelength array of the spectra. \n",
    "        Returns the rest-frame values if rest_frame = True\n",
    "    \n",
    "    flux : array\n",
    "        Flux array of the spectra. \n",
    "        Returns the rest-frame values if rest_frame = True\n",
    "        \n",
    "    ivar : array\n",
    "        Inverse variance array of the spectra. \n",
    "        Returns the rest-frame values if rest_frame = True\n",
    "    \"\"\"\n",
    "    \n",
    "    wavelength = sparcl_rec.wavelength\n",
    "    flux = sparcl_rec.flux\n",
    "    ivar = sparcl_rec.ivar\n",
    "    \n",
    "    if (rest_frame == True):\n",
    "        wavelength = wavelength/(1+z)\n",
    "        flux = flux*(1+z)\n",
    "        ivar = ivar/((1+z)**2)\n",
    "    \n",
    "    return (wavelength, flux, ivar)"
   ]
  },
  {
   "cell_type": "code",
   "execution_count": null,
   "id": "040472fe",
   "metadata": {},
   "outputs": [],
   "source": [
    "len(t_oii_comb)"
   ]
  },
  {
   "cell_type": "code",
   "execution_count": null,
   "id": "cd40a53e",
   "metadata": {},
   "outputs": [],
   "source": [
    "total_oii_flux = t_oii_comb['flux_oii_3726'].data + t_oii_comb['flux_oii_3728'].data\n",
    "total_oii_err = np.sqrt((t_oii_comb['flux_oii_3726_err'].data**2)+(t_oii_comb['flux_oii_3728_err'].data**2))\n",
    "oii_snr = total_oii_flux/total_oii_err\n",
    "\n",
    "## Select source with the maximum [OII] flux SNR \n",
    "ii = np.argmax(oii_snr)"
   ]
  },
  {
   "cell_type": "code",
   "execution_count": null,
   "id": "2e42c2e9",
   "metadata": {},
   "outputs": [],
   "source": [
    "lam_desi, flux_desi, ivar_desi = get_restframe_spectra(res_desi.records[ii], t_oii_comb['redshift_desi'].data[ii], rest_frame = True)\n",
    "lam_sdss, flux_sdss, ivar_sdss = get_restframe_spectra(res_sdss.records[ii], t_oii_comb['redshift_sdss'].data[ii], rest_frame = True)"
   ]
  },
  {
   "cell_type": "code",
   "execution_count": null,
   "id": "13f573c1",
   "metadata": {},
   "outputs": [],
   "source": [
    "err_sdss = np.sqrt(1/ivar_sdss)\n",
    "err_desi = np.sqrt(1/ivar_desi)"
   ]
  },
  {
   "cell_type": "markdown",
   "id": "7a099c37",
   "metadata": {},
   "source": [
    "First, we plot the DESI and SDSS spectra of the same galaxy over the entire common spectral range. The DESI spectrum is shown in black, while the SDSS spectrum is in red."
   ]
  },
  {
   "cell_type": "code",
   "execution_count": null,
   "id": "d146bf6d",
   "metadata": {},
   "outputs": [],
   "source": [
    "plt.figure(figsize = (20, 8))\n",
    "\n",
    "plt.plot(lam_desi, flux_desi, color = 'k', label = 'DESI-EDR')\n",
    "plt.plot(lam_sdss, flux_sdss, color = 'r', label = 'SDSS')\n",
    "plt.xlim([3600, 7000])\n",
    "plt.ylim([-5, 100])\n",
    "plt.xlabel('$\\lambda~[\\AA]$')\n",
    "plt.ylabel('$F_{\\lambda}~[10^{-17}~ergs~s^{-1}~cm^{-2}~{\\AA}^{-1}]$')\n",
    "plt.legend(loc = 'upper left')"
   ]
  },
  {
   "cell_type": "markdown",
   "id": "fd42276b",
   "metadata": {},
   "source": [
    "Next, we compare the spectra over a narrow spectra range surrounding the [OII] doublet region. <br/>\n",
    "The observed spectrum in both the panels is shown in black with the uncertainties as a gray shaded area."
   ]
  },
  {
   "cell_type": "code",
   "execution_count": null,
   "id": "c4c5ff7c",
   "metadata": {},
   "outputs": [],
   "source": [
    "fig, axs = plt.subplots(1,2,figsize = (20,6), sharex = True, sharey = True)\n",
    "\n",
    "axs[0].plot(lam_sdss, flux_sdss, color = 'k', lw = 2.0)\n",
    "axs[0].fill_between(lam_sdss, flux_sdss-err_sdss, flux_sdss+err_sdss, color = 'grey', alpha = 0.5)\n",
    "axs[1].plot(lam_desi, flux_desi, color = 'k', lw = 2.0)\n",
    "axs[1].fill_between(lam_desi, flux_desi-err_desi, flux_desi+err_desi, color = 'grey', alpha = 0.5)\n",
    "axs[0].axvline(3727.092, color = 'r', ls = ':')\n",
    "axs[0].axvline(3729.875, color = 'r', ls = ':')\n",
    "axs[1].axvline(3727.092, color = 'r', ls = ':')\n",
    "axs[1].axvline(3729.875, color = 'r', ls = ':')\n",
    "\n",
    "axs[0].set(xlabel = '$\\lambda~[\\AA]$', ylabel = '$F_{\\lambda}~[10^{-17}~ergs~s^{-1}~cm^{-2}~{\\AA}^{-1}]$', title = 'SDSS')\n",
    "axs[1].set(xlim = [3710,3745], ylim = [-2,100], title = 'DESI-EDR', xlabel = '$\\lambda~[\\AA]$', ylabel = '$F_{\\lambda}~[10^{-17}~ergs~s^{-1}~cm^{-2}~{\\AA}^{-1}]$')\n",
    "\n",
    "plt.show()"
   ]
  },
  {
   "cell_type": "markdown",
   "id": "72c773bd",
   "metadata": {},
   "source": [
    "From the comparison plots above, we conclude the following:\n",
    "* The flux from the source measured by SDSS is slightly higher than that measured by DESI. This is more pronounced in the case of the continuum. The observed flux is typically a function of the seeing at the time of spectroscopic observations and the fiber size. This observed difference is therefore partly because of the difference in fiber sizes between the two surveys. The SDSS fiber (3\" in diameter) collects more light than the DESI fiber (1.5\" in diameter), leading to a higher measured flux.\n",
    "\n",
    "* The [OII] doublet is clearly resolved in DESI EDR, while it appears as a single emission-line in the case of SDSS. This is expected given that the DESI spectrograph has a higher spectral resolution than the SDSS and BOSS spectrographs, helping us resolve more spectral information. \n",
    "\n",
    "* Specifically, the ratio of the two components of [OII] doublet is an important tracer for measuring electron density in HII-regions. Using DESI, we can therefore study such important properties for a large number of galaxies.\n",
    "\n",
    "* From the error bars on both the spectra, we see that they have similar signal-to-noise ratios. In fact, the exposure time for DESI is planned in such a way that the spectra will have same S/N ratio as SDSS for similar magnitude objects. However, it takes less time for DESI to reach such a S/N compared to SDSS.\n",
    "\n",
    "* Another important point regarding DESI is that it pushes the target selection to much fainter objects than SDSS. "
   ]
  },
  {
   "cell_type": "markdown",
   "id": "85184c80",
   "metadata": {},
   "source": [
    "#### <a class=\"anchor\" id=\"resources\"></a>\n",
    "# Resources\n",
    "* SDSS Website: https://www.sdss4.org/dr16/\n",
    "* DESI Website: https://www.desi.lbl.gov/\n",
    "* SPARCL Links: https://sparclclient.readthedocs.io/en/latest/, https://astrosparcl.datalab.noirlab.edu/sparc/\n",
    "* Schema details about the emissionlinesport catalog: https://datalab.noirlab.edu/query.php?name=sdss_dr12.emissionlinesport\n",
    "* Introduction to SPARCL notebook: https://github.com/astro-datalab/notebooks-latest/blob/master/04_HowTos/SPARCL/How_to_use_SPARCL.ipynb\n",
    "\n",
    "# References\n",
    "* [Abareshi et al. 2022](https://ui.adsabs.harvard.edu/abs/2022arXiv220510939A/abstract)\n",
    "* [Einasto et al. 2011](https://ui.adsabs.harvard.edu/abs/2011ApJ...736...51E/abstract)\n",
    "* [Smee et al. 2013](https://ui.adsabs.harvard.edu/abs/2013AJ....146...32S/abstract)\n",
    "* [Vogeley et al. 2004](https://ui.adsabs.harvard.edu/abs/2004ogci.conf....5V/abstract)\n",
    "\n",
    "# Acknowledgments\n",
    "\n",
    "* DESI Data License and Acknowledgements: https://data.desi.lbl.gov/doc/acknowledgments/\n",
    "* SDSS Data License and Acknowledgements: https://www.sdss4.org/collaboration/#sdss4acknowledgement\n",
    "* Astro Data Lab Acknowledgments: https://datalab.noirlab.edu/acknowledgements.php\n",
    "* SPARCL Acknowledgments: https://astrosparcl.datalab.noirlab.edu/sparc/acknowledgments"
   ]
  },
  {
   "cell_type": "markdown",
   "id": "d8ad63c6",
   "metadata": {},
   "source": [
    "---"
   ]
  }
 ],
 "metadata": {
  "kernelspec": {
   "display_name": "DL Py3.9 (Default)",
   "language": "python",
   "name": "python3"
  },
  "language_info": {
   "codemirror_mode": {
    "name": "ipython",
    "version": 3
   },
   "file_extension": ".py",
   "mimetype": "text/x-python",
   "name": "python",
   "nbconvert_exporter": "python",
   "pygments_lexer": "ipython3",
   "version": "3.9.18"
  }
 },
 "nbformat": 4,
 "nbformat_minor": 5
}
